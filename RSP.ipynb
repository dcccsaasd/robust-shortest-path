{
 "cells": [
  {
   "cell_type": "markdown",
   "metadata": {
    "render": true
   },
   "source": [
    "# Benders decomposition with decision optimization\n",
    "\n",
    "This tutorial includes everything you need to set up decision optimization engines, build a mathematical programming model, then use the benders decomposition on it.\n",
    "\n",
    "\n",
    "When you finish this tutorial, you'll have a foundational knowledge of _Prescriptive Analytics_.\n",
    "\n",
    ">This notebook is part of **[Prescriptive Analytics for Python](http://ibmdecisionoptimization.github.io/docplex-doc/)**\n",
    ">\n",
    ">It requires either an [installation of CPLEX Optimizers](http://ibmdecisionoptimization.github.io/docplex-doc/getting_started.html) or it can be run on [IBM Watson Studio Cloud](https://www.ibm.com/cloud/watson-studio/) (Sign up for a [free IBM Cloud account](https://dataplatform.cloud.ibm.com/registration/stepone?context=wdp&apps=all>)\n",
    "and you can start using Watson Studio Cloud right away).\n",
    "\n",
    "Table of contents:\n",
    "\n",
    "-  [Describe the business problem](#Describe-the-business-problem:--Games-Scheduling-in-the-National-Football-League)\n",
    "*  [How decision optimization (prescriptive analytics) can help](#How--decision-optimization-can-help)\n",
    "*  [Use decision optimization](#Use-decision-optimization)\n",
    "    *  [Step 1: Import the library](#Step-1:-Import-the-library)\n",
    "    *  [Step 2: Set up the prescriptive model](#Step-2:-Set-up-the-prescriptive-model)\n",
    "    *  [Step 3: Solve the problem with default CPLEX algorithm](#Step-3:-Solve-the-problem-with-default-CPLEX-algorithm)\n",
    "    *  [Step 4: Apply a Benders strategy](#Step-4:-Apply-a-Benders-strategy)\n",
    "    *  [Step 5: Use the CPLEX annotations to guide CPLEX in your Benders decomposition](#Step-5:-Use-the-CPLEX-annotations-to-guide-CPLEX-in-your-Benders-decomposition)\n",
    "*  [Summary](#Summary)\n",
    "****"
   ]
  },
  {
   "cell_type": "markdown",
   "metadata": {},
   "source": [
    "Benders decomposition is an approach to solve mathematical programming problems with a decomposable structure.\n",
    "\n",
    "Starting with 12.7, CPLEX can decompose the model into a single master and (possibly multiple) subproblems. \n",
    "\n",
    "To do so, CPLEX can use of annotations that you supply for your model or can automatically do the decomposition. \n",
    "This approach can be applied to mixed-integer linear programs (MILP). For certain types of problems, this approach can offer significant performance improvements.\n",
    "\n",
    "**Note**:\n",
    "If your problem does not match such decomposition, CPLEX will raise an error at solve time.\n",
    "\n",
    "CPLEX will produce an error CPXERR_BAD_DECOMPOSITION if the annotated decomposition does not yield disjoint subproblems"
   ]
  },
  {
   "cell_type": "markdown",
   "metadata": {},
   "source": [
    "#### Learn more bout Benders decomposition"
   ]
  },
  {
   "cell_type": "markdown",
   "metadata": {},
   "source": [
    "Directs a reader to more sources about Benders algorithm.\n",
    "\n",
    "The popular acceptance of the original paper suggesting a decomposition or partitioning of a model to support solution of mixed integer programs gave rise to \"Benders algorithm\" as the name.\n",
    "\n",
    "* *J. Benders*. <i>Partitioning procedures for solving mixed-variables programming problems in Numerische Mathematik, volume 4, issue 1, pages 238–252, 1962</i>\n",
    "\n",
    "Other researchers developed the theory of cut-generating linear programs (CGLP) to further this practice.\n",
    "* *M. Fischetti, D. Salvagnin, A. Zanette*. <i>A note on the selection of Benders’ cuts in Mathematical Programming, series B, volume 124, pages 175-182, 2010</i>\n",
    "\n",
    "Still others applied the practice to practical operations research. This technical report describes Benders algorithm in \"modern\" terms and offers implementation hints.\n",
    "* *M. Fischetti, I. Ljubic, M. Sinnl*. <i>Benders decomposition without separability: a computational study for capacitated facility location problems in Technical Report University of Padova, 2016</i>"
   ]
  },
  {
   "cell_type": "markdown",
   "metadata": {
    "render": true
   },
   "source": [
    "## How  decision optimization can help\n",
    "\n",
    "* Prescriptive analytics (decision optimization) technology recommends actions that are based on desired outcomes.  It takes into account specific scenarios, resources, and knowledge of past and current events. With this insight, your organization can make better decisions and have greater control of business outcomes.  \n",
    "\n",
    "* Prescriptive analytics is the next step on the path to insight-based actions. It creates value through synergy with predictive analytics, which analyzes data to predict future outcomes.  \n",
    "\n",
    "* Prescriptive analytics takes that insight to the next level by suggesting the optimal way to handle that future situation. Organizations that can act fast in dynamic conditions and make superior decisions in uncertain environments gain a strong competitive advantage.  \n",
    "<br/>\n",
    "\n",
    "<u>With prescriptive analytics, you can:</u> \n",
    "\n",
    "* Automate the complex decisions and trade-offs to better manage your limited resources.\n",
    "* Take advantage of a future opportunity or mitigate a future risk.\n",
    "* Proactively update recommendations based on changing events.\n",
    "* Meet operational goals, increase customer loyalty, prevent threats and fraud, and optimize business processes.\n",
    "\n"
   ]
  },
  {
   "cell_type": "markdown",
   "metadata": {},
   "source": [
    "## Use decision optimization"
   ]
  },
  {
   "cell_type": "markdown",
   "metadata": {},
   "source": [
    "### Step 1: Import the library\n",
    "\n",
    "Run the following code to import Decision Optimization CPLEX Modeling library.  The *DOcplex* library contains the two modeling packages, Mathematical Programming and Constraint Programming, referred to earlier."
   ]
  },
  {
   "cell_type": "code",
   "execution_count": 31,
   "metadata": {},
   "outputs": [],
   "source": [
    "import sys\n",
    "try:\n",
    "    import docplex.mp\n",
    "except:\n",
    "    raise Exception('Please install docplex. See https://pypi.org/project/docplex/')"
   ]
  },
  {
   "cell_type": "markdown",
   "metadata": {},
   "source": [
    "A restart of the kernel might be needed."
   ]
  },
  {
   "cell_type": "markdown",
   "metadata": {
    "render": true
   },
   "source": [
    "### Step 2: Set up the prescriptive model"
   ]
  },
  {
   "cell_type": "markdown",
   "metadata": {},
   "source": [
    "We will write a toy model just in order to show how to use the annotation api.\n",
    "\n",
    "This model is not important: it just matche a benders decomposition, that is CPLEX can apply its new algorithm without any error.\n",
    "\n",
    "The aim of this notebook is to discover and learn how to successfully apply Benders, not to see huge performance differences between a standard solve and a Benders based solve."
   ]
  },
  {
   "cell_type": "code",
   "execution_count": 32,
   "metadata": {},
   "outputs": [
    {
     "name": "stdout",
     "output_type": "stream",
     "text": [
      "Lower bound matrix: \n",
      " [[10000 10000 10000 10000 10000     2 10000 10000 10000 10000 10000 10000\n",
      "  10000 10000     1 10000 10000     7 10000 10000]\n",
      " [10000 10000 10000 10000 10000 10000     4 10000 10000     8 10000 10000\n",
      "  10000 10000 10000 10000 10000 10000 10000 10000]\n",
      " [10000 10000 10000 10000 10000     2 10000 10000 10000 10000 10000 10000\n",
      "      5 10000 10000     7 10000 10000 10000 10000]\n",
      " [10000 10000     8 10000 10000 10000 10000 10000 10000 10000 10000     2\n",
      "  10000 10000 10000 10000 10000 10000 10000 10000]\n",
      " [10000 10000 10000 10000 10000 10000     4 10000 10000 10000 10000 10000\n",
      "  10000 10000     9 10000 10000 10000 10000 10000]\n",
      " [    3 10000 10000 10000 10000 10000 10000 10000 10000 10000 10000 10000\n",
      "  10000 10000 10000 10000 10000 10000     5 10000]\n",
      " [10000 10000 10000 10000     2 10000 10000     4 10000 10000 10000 10000\n",
      "  10000 10000 10000 10000 10000 10000 10000 10000]\n",
      " [10000     7 10000 10000 10000 10000     2 10000 10000 10000 10000 10000\n",
      "  10000 10000 10000 10000 10000 10000 10000 10000]\n",
      " [10000 10000 10000     2     5 10000 10000 10000 10000 10000 10000     4\n",
      "  10000 10000 10000     3 10000 10000 10000 10000]\n",
      " [10000     8 10000 10000 10000 10000 10000 10000 10000     0     2 10000\n",
      "  10000 10000 10000 10000 10000 10000 10000 10000]\n",
      " [10000 10000 10000 10000 10000 10000 10000 10000     1 10000 10000 10000\n",
      "  10000 10000 10000 10000 10000 10000 10000 10000]\n",
      " [10000     7 10000 10000 10000 10000 10000 10000 10000     1 10000 10000\n",
      "      5 10000 10000 10000 10000     8 10000 10000]\n",
      " [10000 10000 10000 10000 10000     2 10000 10000 10000 10000 10000     2\n",
      "  10000 10000 10000 10000 10000     4     6     5]\n",
      " [10000 10000 10000 10000 10000 10000 10000 10000 10000 10000 10000 10000\n",
      "  10000 10000 10000     4 10000 10000 10000 10000]\n",
      " [    2 10000 10000 10000 10000 10000 10000 10000 10000 10000 10000     2\n",
      "  10000 10000 10000 10000     3 10000 10000 10000]\n",
      " [10000 10000 10000 10000 10000 10000 10000 10000 10000 10000 10000 10000\n",
      "  10000 10000 10000     0 10000 10000 10000 10000]\n",
      " [10000 10000 10000 10000 10000     9 10000 10000 10000 10000 10000     6\n",
      "  10000 10000 10000 10000 10000 10000 10000     2]\n",
      " [10000 10000     3 10000 10000 10000 10000 10000     8 10000 10000 10000\n",
      "  10000 10000 10000 10000 10000     0 10000     9]\n",
      " [10000 10000 10000 10000 10000 10000 10000 10000 10000 10000 10000 10000\n",
      "  10000 10000 10000 10000 10000 10000 10000 10000]\n",
      " [10000 10000 10000 10000     4 10000 10000 10000     4 10000 10000 10000\n",
      "      5 10000 10000 10000 10000 10000 10000     0]]\n",
      "\n",
      "\n",
      "Upper bound matrix: \n",
      " [[10000 10000 10000 10000 10000    27 10000 10000 10000 10000 10000 10000\n",
      "  10000 10000    20 10000 10000    21 10000 10000]\n",
      " [10000 10000 10000 10000 10000 10000    26 10000 10000    21 10000 10000\n",
      "  10000 10000 10000 10000 10000 10000 10000 10000]\n",
      " [10000 10000 10000 10000 10000    29 10000 10000 10000 10000 10000 10000\n",
      "     25 10000 10000    25 10000 10000 10000 10000]\n",
      " [10000 10000    27 10000 10000 10000 10000 10000 10000 10000 10000    21\n",
      "  10000 10000 10000 10000 10000 10000 10000 10000]\n",
      " [10000 10000 10000 10000 10000 10000    25 10000 10000 10000 10000 10000\n",
      "  10000 10000    29 10000 10000 10000 10000 10000]\n",
      " [   24 10000 10000 10000 10000 10000 10000 10000 10000 10000 10000 10000\n",
      "  10000 10000 10000 10000 10000 10000    27 10000]\n",
      " [10000 10000 10000 10000    25 10000 10000    26 10000 10000 10000 10000\n",
      "  10000 10000 10000 10000 10000 10000 10000 10000]\n",
      " [10000    25 10000 10000 10000 10000    22 10000 10000 10000 10000 10000\n",
      "  10000 10000 10000 10000 10000 10000 10000 10000]\n",
      " [10000 10000 10000    22    26 10000 10000 10000 10000 10000 10000    25\n",
      "  10000 10000 10000    25 10000 10000 10000 10000]\n",
      " [10000    23 10000 10000 10000 10000 10000 10000 10000     0    24 10000\n",
      "  10000 10000 10000 10000 10000 10000 10000 10000]\n",
      " [10000 10000 10000 10000 10000 10000 10000 10000    25 10000 10000 10000\n",
      "  10000 10000 10000 10000 10000 10000 10000 10000]\n",
      " [10000    26 10000 10000 10000 10000 10000 10000 10000    21 10000 10000\n",
      "     28 10000 10000 10000 10000    29 10000 10000]\n",
      " [10000 10000 10000 10000 10000    25 10000 10000 10000 10000 10000    20\n",
      "  10000 10000 10000 10000 10000    28    28    20]\n",
      " [10000 10000 10000 10000 10000 10000 10000 10000 10000 10000 10000 10000\n",
      "  10000 10000 10000    26 10000 10000 10000 10000]\n",
      " [   28 10000 10000 10000 10000 10000 10000 10000 10000 10000 10000    22\n",
      "  10000 10000 10000 10000    22 10000 10000 10000]\n",
      " [10000 10000 10000 10000 10000 10000 10000 10000 10000 10000 10000 10000\n",
      "  10000 10000 10000     0 10000 10000 10000 10000]\n",
      " [10000 10000 10000 10000 10000    24 10000 10000 10000 10000 10000    23\n",
      "  10000 10000 10000 10000 10000 10000 10000    24]\n",
      " [10000 10000    23 10000 10000 10000 10000 10000    22 10000 10000 10000\n",
      "  10000 10000 10000 10000 10000     0 10000    24]\n",
      " [10000 10000 10000 10000 10000 10000 10000 10000 10000 10000 10000 10000\n",
      "  10000 10000 10000 10000 10000 10000 10000 10000]\n",
      " [10000 10000 10000 10000    20 10000 10000 10000    24 10000 10000 10000\n",
      "     27 10000 10000 10000 10000 10000 10000     0]]\n"
     ]
    }
   ],
   "source": [
    "import numpy as np\n",
    "# set seed to get consistent/comparable results\n",
    "np.random.seed(1234) \n",
    "\n",
    "N = 20 # number of nodes in the graph\n",
    "M = 10000 # a very large number\n",
    "\n",
    "# Generate lower bound and upper bound\n",
    "# The graph should be directed because for traffic simulation\n",
    "# time from i to j could be vastly different than time from j to i\n",
    "l = np.random.randint(low=1, high=10, size=(N,N))\n",
    "u = np.random.randint(low=20, high=30, size=(N,N))\n",
    "\n",
    "# Diaganol should be 0 as it represent a self loop for a node\n",
    "for i in range(N):\n",
    "    l[i][i] = 0\n",
    "    u[i][i] = 0\n",
    "\n",
    "# The graph may not be fully connected, thus, should delete some path\n",
    "# Say the graph is 50% fully connected, set the weight of 50% of the\n",
    "# path to a very large number M.\n",
    "# The degree of connectivity in the graph is an adjustable parameter\n",
    "dummy = np.random.randint(low=0, high=10, size=(N,N)) # matrix of 0 and 1\n",
    "# For dummy = 1, keep path; otherwise, delete (set weight = M)\n",
    "for i in range(N):\n",
    "    for j in range(N):\n",
    "        if dummy[i][j] != 0:\n",
    "            l[i][j] = M\n",
    "            u[i][j] = M    \n",
    "\n",
    "# Arbituarily pick a source node and a distination node for testing\n",
    "s = 0\n",
    "t = 4\n",
    "\n",
    "print('Lower bound matrix: \\n', l)\n",
    "print('\\n')\n",
    "print('Upper bound matrix: \\n', u)"
   ]
  },
  {
   "cell_type": "markdown",
   "metadata": {},
   "source": [
    "Create one model instance, with a name. We set the log output to true such that we can see when CPLEX enables the Benders algorithm."
   ]
  },
  {
   "cell_type": "code",
   "execution_count": 33,
   "metadata": {},
   "outputs": [],
   "source": [
    "# first import the Model class from docplex.mp\n",
    "from docplex.mp.model import Model\n",
    "\n",
    "m = Model(name='benders', log_output=True)\n",
    "\n",
    "# Binary variable: y_ij = 1 if arc(i,j) is on the shortest path\n",
    "Y = m.binary_var_dict([(i,j) for i in range(N) for j in range(N)])\n",
    "\n",
    "# Continuous variable: x_j = shortest path from s to j\n",
    "# In fact, this would be integer for now because l and u\n",
    "# are made of integers\n",
    "X = m.continuous_var_dict(N)"
   ]
  },
  {
   "cell_type": "code",
   "execution_count": 34,
   "metadata": {},
   "outputs": [],
   "source": [
    "# Objective function\n",
    "m.minimize(m.sum(u[i][j]*Y[i,j] for i in range(N) for j in range(N)) - X[t])\n",
    "\n",
    "# Constraints\n",
    "m.add_constraint(X[s] == 0) # distance from s to s is 0\n",
    "m.add_constraints(X[j] <= X[i]+l[i][j]+(u[i][j]-l[i][j])*Y[i,j] for i in range(N) for j in range(N))\n",
    "m.add_constraint(m.sum(Y[s,k] for k in range(N)) - m.sum(Y[i,s] for i in range(N)) == 1) # source node flux = 1\n",
    "m.add_constraint(m.sum(Y[t,k] for k in range(N)) - m.sum(Y[i,t] for i in range(N)) == -1) # source node flux = -1\n",
    "for j in range(N): # intermediate node flux = 0\n",
    "    if j != s and j != t:\n",
    "        m.add_constraint(m.sum(Y[j,k] for k in range(N)) - m.sum(Y[i,j] for i in range(N)) == 0)"
   ]
  },
  {
   "cell_type": "markdown",
   "metadata": {
    "render": true
   },
   "source": [
    "#### Solve with Decision Optimization \n",
    "\n",
    "If you're using a Community Edition of CPLEX runtimes, depending on the size of the problem, the solve stage may fail and will need a paying subscription or product installation.\n",
    "\n",
    "You will get the best solution found after ***n*** seconds, thanks to a time limit parameter."
   ]
  },
  {
   "cell_type": "code",
   "execution_count": 35,
   "metadata": {},
   "outputs": [
    {
     "name": "stdout",
     "output_type": "stream",
     "text": [
      "Model: benders\n",
      " - number of variables: 420\n",
      "   - binary=400, integer=0, continuous=20\n",
      " - number of constraints: 421\n",
      "   - linear=421\n",
      " - parameters: defaults\n",
      " - problem type is: MILP\n"
     ]
    }
   ],
   "source": [
    "m.print_information()"
   ]
  },
  {
   "cell_type": "markdown",
   "metadata": {
    "render": true
   },
   "source": [
    "### Step 3: Solve the problem with default CPLEX algorithm"
   ]
  },
  {
   "cell_type": "code",
   "execution_count": 36,
   "metadata": {
    "scrolled": false
   },
   "outputs": [
    {
     "name": "stdout",
     "output_type": "stream",
     "text": [
      "Version identifier: 12.10.0.0 | 2019-11-26 | 843d4de2ae\n",
      "CPXPARAM_Read_DataCheck                          1\n",
      "Found incumbent of value 10000.000000 after 0.00 sec. (0.02 ticks)\n",
      "Tried aggregator 2 times.\n",
      "MIP Presolve eliminated 366 rows and 25 columns.\n",
      "MIP Presolve added 159 rows and 159 columns.\n",
      "MIP Presolve modified 4 coefficients.\n",
      "Aggregator did 4 substitutions.\n",
      "Reduced MIP has 210 rows, 550 columns, and 1334 nonzeros.\n",
      "Reduced MIP has 380 binaries, 159 generals, 0 SOSs, and 0 indicators.\n",
      "Presolve time = 0.02 sec. (1.24 ticks)\n",
      "Probing time = 0.00 sec. (0.14 ticks)\n",
      "Tried aggregator 1 time.\n",
      "Detecting symmetries...\n",
      "MIP Presolve eliminated 159 rows and 159 columns.\n",
      "MIP Presolve added 159 rows and 159 columns.\n",
      "MIP Presolve modified 3 coefficients.\n",
      "Reduced MIP has 210 rows, 550 columns, and 1334 nonzeros.\n",
      "Reduced MIP has 380 binaries, 159 generals, 0 SOSs, and 0 indicators.\n",
      "Presolve time = 0.02 sec. (0.94 ticks)\n",
      "Probing time = 0.00 sec. (0.14 ticks)\n",
      "MIP emphasis: balance optimality and feasibility.\n",
      "MIP search method: dynamic search.\n",
      "Parallel mode: deterministic, using up to 4 threads.\n",
      "Root relaxation solution time = 0.00 sec. (0.64 ticks)\n",
      "\n",
      "        Nodes                                         Cuts/\n",
      "   Node  Left     Objective  IInf  Best Integer    Best Bound    ItCnt     Gap\n",
      "\n",
      "*     0+    0                        10000.0000      -65.0000           100.65%\n",
      "      0     0       46.2406    14    10000.0000       46.2406       33   99.54%\n",
      "*     0+    0                           59.0000       46.2406            21.63%\n",
      "*     0     0      integral     0       53.0000       Cuts: 8       43    0.00%\n",
      "      0     0        cutoff             53.0000       53.0000       43    0.00%\n",
      "Elapsed time = 0.08 sec. (5.86 ticks, tree = 0.01 MB, solutions = 2)\n",
      "\n",
      "Implied bound cuts applied:  1\n",
      "Flow cuts applied:  2\n",
      "Mixed integer rounding cuts applied:  3\n",
      "Lift and project cuts applied:  1\n",
      "Gomory fractional cuts applied:  1\n",
      "\n",
      "Root node processing (before b&c):\n",
      "  Real time             =    0.09 sec. (5.89 ticks)\n",
      "Parallel b&c, 4 threads:\n",
      "  Real time             =    0.00 sec. (0.00 ticks)\n",
      "  Sync time (average)   =    0.00 sec.\n",
      "  Wait time (average)   =    0.00 sec.\n",
      "                          ------------\n",
      "Total (root+branch&cut) =    0.09 sec. (5.89 ticks)\n",
      "* model benders solved with objective = 53.000\n",
      "solution for: benders\n",
      "objective: 53\n",
      "x18=1\n",
      "x360=1\n",
      "x385=1\n",
      "x402=10.000\n",
      "x403=10.000\n",
      "x404=9.000\n",
      "x405=12.000\n",
      "x407=14.000\n",
      "x408=18.000\n",
      "x409=7.000\n",
      "x410=4.000\n",
      "x411=6.000\n",
      "x412=3.000\n",
      "x413=8.000\n",
      "x414=10000.000\n",
      "x415=1.000\n",
      "x417=4.000\n",
      "x418=11.000\n",
      "x420=6.000\n",
      "\n"
     ]
    }
   ],
   "source": [
    "msol = m.solve()\n",
    "assert msol is not None, \"model can't solve\"\n",
    "m.report()\n",
    "\n",
    "print(msol)"
   ]
  },
  {
   "cell_type": "markdown",
   "metadata": {},
   "source": [
    "#### Inspect the CPLEX Log."
   ]
  },
  {
   "cell_type": "markdown",
   "metadata": {},
   "source": [
    "If you inspect the CPLEX, you will see that it is a very standard log.\n",
    "CPLEX needed 63 iterations to solve it."
   ]
  },
  {
   "cell_type": "code",
   "execution_count": 37,
   "metadata": {},
   "outputs": [],
   "source": [
    "obj1 = m.objective_value"
   ]
  },
  {
   "cell_type": "markdown",
   "metadata": {},
   "source": [
    "### Step 4: Apply a Benders strategy"
   ]
  },
  {
   "cell_type": "markdown",
   "metadata": {},
   "source": [
    "CPLEX implements a default Benders decomposition in certain situations.\n",
    "\n",
    "If you want CPLEX to apply a Benders strategy as it solves your problem, but you do not specify cpxBendersPartition annotations yourself, CPLEX puts all integer variables in master and continuous variables into subproblems. \n",
    "If there are no integer variables in your model, or if there are no continuous variables in your model, CPLEX raises an error stating that it cannot automatically decompose the model to apply a Benders strategy."
   ]
  },
  {
   "cell_type": "markdown",
   "metadata": {},
   "source": [
    "You just need to set the Benders strategy parameter."
   ]
  },
  {
   "cell_type": "markdown",
   "metadata": {},
   "source": [
    "CPLEX supports 4 values for this parameter, from -1 to 3:\n",
    "* OFF (default value) will ignore Benders.\n",
    "* AUTO, USER, WORKERS, FULL will enable Benders.\n",
    "\n",
    "Refer to the CPLEX documentation to understand the differences between the 4 values that trigger it."
   ]
  },
  {
   "cell_type": "code",
   "execution_count": 38,
   "metadata": {},
   "outputs": [],
   "source": [
    "m.parameters.benders.strategy = 3"
   ]
  },
  {
   "cell_type": "code",
   "execution_count": 39,
   "metadata": {},
   "outputs": [
    {
     "name": "stdout",
     "output_type": "stream",
     "text": [
      "Model: benders\n",
      " - number of variables: 420\n",
      "   - binary=400, integer=0, continuous=20\n",
      " - number of constraints: 421\n",
      "   - linear=421\n",
      " - parameters:\n",
      "     parameters.benders.strategy = 3\n",
      " - problem type is: MILP\n"
     ]
    }
   ],
   "source": [
    "m.print_information()"
   ]
  },
  {
   "cell_type": "markdown",
   "metadata": {},
   "source": [
    "We call cplex solve, but with the <i>clean_before_solve</i> flag because we want it to forget everything about previous solve and solution."
   ]
  },
  {
   "cell_type": "code",
   "execution_count": 40,
   "metadata": {
    "scrolled": false
   },
   "outputs": [
    {
     "name": "stdout",
     "output_type": "stream",
     "text": [
      "Version identifier: 12.10.0.0 | 2019-11-26 | 843d4de2ae\n",
      "CPXPARAM_Read_DataCheck                          1\n",
      "CPXPARAM_RandomSeed                              201903125\n",
      "CPXPARAM_Benders_Strategy                        3\n",
      "Found incumbent of value 10000.000000 after 0.00 sec. (0.02 ticks)\n",
      "Tried aggregator 1 time.\n",
      "MIP Presolve eliminated 365 rows and 25 columns.\n",
      "MIP Presolve modified 4 coefficients.\n",
      "Reduced MIP has 56 rows, 395 columns, and 866 nonzeros.\n",
      "Reduced MIP has 380 binaries, 0 generals, 0 SOSs, and 0 indicators.\n",
      "Presolve time = 0.02 sec. (0.53 ticks)\n",
      "Tried aggregator 1 time.\n",
      "MIP Presolve modified 3 coefficients.\n",
      "Reduced MIP has 56 rows, 395 columns, and 866 nonzeros.\n",
      "Reduced MIP has 380 binaries, 0 generals, 0 SOSs, and 0 indicators.\n",
      "Presolve time = 0.00 sec. (0.38 ticks)\n",
      "\n",
      "        Nodes                                         Cuts/\n",
      "   Node  Left     Objective  IInf  Best Integer    Best Bound    ItCnt     Gap\n",
      "\n",
      "      0     0       -0.0000          10000.0000    Benders: 1        7  100.00%\n",
      "      0     0       25.0286          10000.0000    Benders: 1       12   99.75%\n",
      "      0     0       36.8308          10000.0000    Benders: 1       14   99.63%\n",
      "      0     0       39.7995          10000.0000    Benders: 1       15   99.60%\n",
      "      0     0       45.6532          10000.0000    Benders: 1       20   99.54%\n",
      "      0     0       46.1519          10000.0000    Benders: 1       21   99.54%\n",
      "      0     0       46.1709          10000.0000    Benders: 1       22   99.54%\n",
      "      0     0       46.2406          10000.0000       46.2406       24   99.54%\n",
      "Tried aggregator 1 time.\n",
      "Reduced MIP has 25 rows, 381 columns, and 791 nonzeros.\n",
      "Reduced MIP has 380 binaries, 0 generals, 0 SOSs, and 0 indicators.\n",
      "Presolve time = 0.00 sec. (0.22 ticks)\n",
      "Probing time = 0.00 sec. (0.06 ticks)\n",
      "Tried aggregator 1 time.\n",
      "Reduced MIP has 25 rows, 381 columns, and 791 nonzeros.\n",
      "Reduced MIP has 380 binaries, 0 generals, 0 SOSs, and 0 indicators.\n",
      "Presolve time = 0.00 sec. (0.22 ticks)\n",
      "Probing time = 0.00 sec. (0.06 ticks)\n",
      "MIP emphasis: balance optimality and feasibility.\n",
      "MIP search method: dynamic search.\n",
      "Parallel mode: deterministic, using up to 4 threads.\n",
      "Root relaxation solution time = 0.00 sec. (0.25 ticks)\n",
      "*     0+    0                         9990.0000       46.2406            99.54%\n",
      "      0     0       46.2406    14     9990.0000       46.2406       44   99.54%\n",
      "*     0+    0                           59.0000       46.2406            21.63%\n",
      "      0     0       50.9023    14       59.0000       Cuts: 8       53   13.72%\n",
      "*     0+    0                           53.0000       50.9023             3.96%\n",
      "      0     0        cutoff             53.0000                     62    0.00%\n",
      "Elapsed time = 0.11 sec. (7.98 ticks, tree = 0.01 MB, solutions = 2)\n",
      "\n",
      "Benders cuts applied:  5\n",
      "Lift and project cuts applied:  1\n",
      "Gomory fractional cuts applied:  1\n",
      "\n",
      "Root node processing (before b&c):\n",
      "  Real time             =    0.11 sec. (8.00 ticks)\n",
      "Parallel b&c, 4 threads:\n",
      "  Real time             =    0.00 sec. (0.00 ticks)\n",
      "  Sync time (average)   =    0.00 sec.\n",
      "  Wait time (average)   =    0.00 sec.\n",
      "                          ------------\n",
      "Total (root+branch&cut) =    0.11 sec. (8.00 ticks)\n",
      "* model benders solved with objective = 53.000\n"
     ]
    }
   ],
   "source": [
    "msol = m.solve(clean_before_solve=True)\n",
    "assert msol is not None, \"model can't solve\"\n",
    "m.report()"
   ]
  },
  {
   "cell_type": "markdown",
   "metadata": {},
   "source": [
    "#### Inspect the CPLEX Log."
   ]
  },
  {
   "cell_type": "markdown",
   "metadata": {},
   "source": [
    "Inspect the CPLEX log: you can now see that the log are different and you can see the message\n",
    "<code>\n",
    "Benders cuts applied:  3\n",
    "</code>\n",
    "which proves CPLEX applied successfully\n",
    "\n",
    "You can see that CPLEX needed only 61 cumulative iterations, while it needed 63 previously."
   ]
  }
 ],
 "metadata": {
  "gist_id": "6011986",
  "kernelspec": {
   "display_name": "Python 3",
   "language": "python",
   "name": "python3"
  },
  "language_info": {
   "codemirror_mode": {
    "name": "ipython",
    "version": 3
   },
   "file_extension": ".py",
   "mimetype": "text/x-python",
   "name": "python",
   "nbconvert_exporter": "python",
   "pygments_lexer": "ipython3",
   "version": "3.6.9"
  }
 },
 "nbformat": 4,
 "nbformat_minor": 1
}
